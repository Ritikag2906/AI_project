{
  "metadata": {
    "language_info": {
      "codemirror_mode": {
        "name": "ipython",
        "version": 3
      },
      "file_extension": ".py",
      "mimetype": "text/x-python",
      "name": "python",
      "nbconvert_exporter": "python",
      "pygments_lexer": "ipython3",
      "version": "3.8.10"
    },
    "orig_nbformat": 4,
    "kernelspec": {
      "name": "python3",
      "display_name": "Python 3.8.10 64-bit ('ml': conda)"
    },
    "interpreter": {
      "hash": "e647baf2a2b3bc8f4cff3ece6d7b666051dc6ebc1e637bf929e446d80dc32a3d"
    },
    "colab": {
      "name": "NN.ipynb",
      "provenance": []
    }
  },
  "nbformat": 4,
  "nbformat_minor": 0,
  "cells": [
    {
      "cell_type": "code",
      "execution_count": 2,
      "metadata": {
        "id": "F7-Ek0_VKAKh"
      },
      "outputs": [],
      "source": [
        "import pandas as pd\n",
        "import numpy as np\n",
        "import matplotlib.pyplot as plt"
      ]
    },
    {
      "cell_type": "code",
      "source": [
        "!git clone https://github.com/helloitsdaksh/NN-from-Scratch.git"
      ],
      "metadata": {
        "colab": {
          "base_uri": "https://localhost:8080/"
        },
        "id": "4nAkW__bKBlL",
        "outputId": "8575a61d-5376-465b-9ad3-6c0ad0e5f121"
      },
      "execution_count": 1,
      "outputs": [
        {
          "output_type": "stream",
          "name": "stdout",
          "text": [
            "Cloning into 'NN-from-Scratch'...\n",
            "remote: Enumerating objects: 19, done.\u001b[K\n",
            "remote: Counting objects: 100% (19/19), done.\u001b[K\n",
            "remote: Compressing objects: 100% (15/15), done.\u001b[K\n",
            "remote: Total 19 (delta 2), reused 16 (delta 1), pack-reused 0\u001b[K\n",
            "Unpacking objects: 100% (19/19), done.\n"
          ]
        }
      ]
    },
    {
      "cell_type": "code",
      "execution_count": 3,
      "metadata": {
        "id": "hsIRsqBTKAKl"
      },
      "outputs": [],
      "source": [
        "location = \"/content/NN-from-Scratch\""
      ]
    },
    {
      "cell_type": "code",
      "execution_count": 7,
      "metadata": {
        "id": "nPb8UF8iKAKl"
      },
      "outputs": [],
      "source": [
        "data = pd.read_csv(location+\"/data/train.csv\")"
      ]
    },
    {
      "cell_type": "code",
      "execution_count": 8,
      "metadata": {
        "colab": {
          "base_uri": "https://localhost:8080/",
          "height": 300
        },
        "id": "iJ-JDcHeKAKm",
        "outputId": "efa37f96-31b3-4937-ef09-40d6bff9c88f"
      },
      "outputs": [
        {
          "output_type": "execute_result",
          "data": {
            "text/plain": [
              "   label  pixel0  pixel1  pixel2  pixel3  pixel4  pixel5  pixel6  pixel7  \\\n",
              "0      1       0       0       0       0       0       0       0       0   \n",
              "1      0       0       0       0       0       0       0       0       0   \n",
              "2      1       0       0       0       0       0       0       0       0   \n",
              "3      4       0       0       0       0       0       0       0       0   \n",
              "4      0       0       0       0       0       0       0       0       0   \n",
              "\n",
              "   pixel8  ...  pixel774  pixel775  pixel776  pixel777  pixel778  pixel779  \\\n",
              "0       0  ...         0         0         0         0         0         0   \n",
              "1       0  ...         0         0         0         0         0         0   \n",
              "2       0  ...         0         0         0         0         0         0   \n",
              "3       0  ...         0         0         0         0         0         0   \n",
              "4       0  ...         0         0         0         0         0         0   \n",
              "\n",
              "   pixel780  pixel781  pixel782  pixel783  \n",
              "0         0         0         0         0  \n",
              "1         0         0         0         0  \n",
              "2         0         0         0         0  \n",
              "3         0         0         0         0  \n",
              "4         0         0         0         0  \n",
              "\n",
              "[5 rows x 785 columns]"
            ],
            "text/html": [
              "\n",
              "  <div id=\"df-ee0a936a-3851-464e-903e-a0c7cec25731\">\n",
              "    <div class=\"colab-df-container\">\n",
              "      <div>\n",
              "<style scoped>\n",
              "    .dataframe tbody tr th:only-of-type {\n",
              "        vertical-align: middle;\n",
              "    }\n",
              "\n",
              "    .dataframe tbody tr th {\n",
              "        vertical-align: top;\n",
              "    }\n",
              "\n",
              "    .dataframe thead th {\n",
              "        text-align: right;\n",
              "    }\n",
              "</style>\n",
              "<table border=\"1\" class=\"dataframe\">\n",
              "  <thead>\n",
              "    <tr style=\"text-align: right;\">\n",
              "      <th></th>\n",
              "      <th>label</th>\n",
              "      <th>pixel0</th>\n",
              "      <th>pixel1</th>\n",
              "      <th>pixel2</th>\n",
              "      <th>pixel3</th>\n",
              "      <th>pixel4</th>\n",
              "      <th>pixel5</th>\n",
              "      <th>pixel6</th>\n",
              "      <th>pixel7</th>\n",
              "      <th>pixel8</th>\n",
              "      <th>...</th>\n",
              "      <th>pixel774</th>\n",
              "      <th>pixel775</th>\n",
              "      <th>pixel776</th>\n",
              "      <th>pixel777</th>\n",
              "      <th>pixel778</th>\n",
              "      <th>pixel779</th>\n",
              "      <th>pixel780</th>\n",
              "      <th>pixel781</th>\n",
              "      <th>pixel782</th>\n",
              "      <th>pixel783</th>\n",
              "    </tr>\n",
              "  </thead>\n",
              "  <tbody>\n",
              "    <tr>\n",
              "      <th>0</th>\n",
              "      <td>1</td>\n",
              "      <td>0</td>\n",
              "      <td>0</td>\n",
              "      <td>0</td>\n",
              "      <td>0</td>\n",
              "      <td>0</td>\n",
              "      <td>0</td>\n",
              "      <td>0</td>\n",
              "      <td>0</td>\n",
              "      <td>0</td>\n",
              "      <td>...</td>\n",
              "      <td>0</td>\n",
              "      <td>0</td>\n",
              "      <td>0</td>\n",
              "      <td>0</td>\n",
              "      <td>0</td>\n",
              "      <td>0</td>\n",
              "      <td>0</td>\n",
              "      <td>0</td>\n",
              "      <td>0</td>\n",
              "      <td>0</td>\n",
              "    </tr>\n",
              "    <tr>\n",
              "      <th>1</th>\n",
              "      <td>0</td>\n",
              "      <td>0</td>\n",
              "      <td>0</td>\n",
              "      <td>0</td>\n",
              "      <td>0</td>\n",
              "      <td>0</td>\n",
              "      <td>0</td>\n",
              "      <td>0</td>\n",
              "      <td>0</td>\n",
              "      <td>0</td>\n",
              "      <td>...</td>\n",
              "      <td>0</td>\n",
              "      <td>0</td>\n",
              "      <td>0</td>\n",
              "      <td>0</td>\n",
              "      <td>0</td>\n",
              "      <td>0</td>\n",
              "      <td>0</td>\n",
              "      <td>0</td>\n",
              "      <td>0</td>\n",
              "      <td>0</td>\n",
              "    </tr>\n",
              "    <tr>\n",
              "      <th>2</th>\n",
              "      <td>1</td>\n",
              "      <td>0</td>\n",
              "      <td>0</td>\n",
              "      <td>0</td>\n",
              "      <td>0</td>\n",
              "      <td>0</td>\n",
              "      <td>0</td>\n",
              "      <td>0</td>\n",
              "      <td>0</td>\n",
              "      <td>0</td>\n",
              "      <td>...</td>\n",
              "      <td>0</td>\n",
              "      <td>0</td>\n",
              "      <td>0</td>\n",
              "      <td>0</td>\n",
              "      <td>0</td>\n",
              "      <td>0</td>\n",
              "      <td>0</td>\n",
              "      <td>0</td>\n",
              "      <td>0</td>\n",
              "      <td>0</td>\n",
              "    </tr>\n",
              "    <tr>\n",
              "      <th>3</th>\n",
              "      <td>4</td>\n",
              "      <td>0</td>\n",
              "      <td>0</td>\n",
              "      <td>0</td>\n",
              "      <td>0</td>\n",
              "      <td>0</td>\n",
              "      <td>0</td>\n",
              "      <td>0</td>\n",
              "      <td>0</td>\n",
              "      <td>0</td>\n",
              "      <td>...</td>\n",
              "      <td>0</td>\n",
              "      <td>0</td>\n",
              "      <td>0</td>\n",
              "      <td>0</td>\n",
              "      <td>0</td>\n",
              "      <td>0</td>\n",
              "      <td>0</td>\n",
              "      <td>0</td>\n",
              "      <td>0</td>\n",
              "      <td>0</td>\n",
              "    </tr>\n",
              "    <tr>\n",
              "      <th>4</th>\n",
              "      <td>0</td>\n",
              "      <td>0</td>\n",
              "      <td>0</td>\n",
              "      <td>0</td>\n",
              "      <td>0</td>\n",
              "      <td>0</td>\n",
              "      <td>0</td>\n",
              "      <td>0</td>\n",
              "      <td>0</td>\n",
              "      <td>0</td>\n",
              "      <td>...</td>\n",
              "      <td>0</td>\n",
              "      <td>0</td>\n",
              "      <td>0</td>\n",
              "      <td>0</td>\n",
              "      <td>0</td>\n",
              "      <td>0</td>\n",
              "      <td>0</td>\n",
              "      <td>0</td>\n",
              "      <td>0</td>\n",
              "      <td>0</td>\n",
              "    </tr>\n",
              "  </tbody>\n",
              "</table>\n",
              "<p>5 rows × 785 columns</p>\n",
              "</div>\n",
              "      <button class=\"colab-df-convert\" onclick=\"convertToInteractive('df-ee0a936a-3851-464e-903e-a0c7cec25731')\"\n",
              "              title=\"Convert this dataframe to an interactive table.\"\n",
              "              style=\"display:none;\">\n",
              "        \n",
              "  <svg xmlns=\"http://www.w3.org/2000/svg\" height=\"24px\"viewBox=\"0 0 24 24\"\n",
              "       width=\"24px\">\n",
              "    <path d=\"M0 0h24v24H0V0z\" fill=\"none\"/>\n",
              "    <path d=\"M18.56 5.44l.94 2.06.94-2.06 2.06-.94-2.06-.94-.94-2.06-.94 2.06-2.06.94zm-11 1L8.5 8.5l.94-2.06 2.06-.94-2.06-.94L8.5 2.5l-.94 2.06-2.06.94zm10 10l.94 2.06.94-2.06 2.06-.94-2.06-.94-.94-2.06-.94 2.06-2.06.94z\"/><path d=\"M17.41 7.96l-1.37-1.37c-.4-.4-.92-.59-1.43-.59-.52 0-1.04.2-1.43.59L10.3 9.45l-7.72 7.72c-.78.78-.78 2.05 0 2.83L4 21.41c.39.39.9.59 1.41.59.51 0 1.02-.2 1.41-.59l7.78-7.78 2.81-2.81c.8-.78.8-2.07 0-2.86zM5.41 20L4 18.59l7.72-7.72 1.47 1.35L5.41 20z\"/>\n",
              "  </svg>\n",
              "      </button>\n",
              "      \n",
              "  <style>\n",
              "    .colab-df-container {\n",
              "      display:flex;\n",
              "      flex-wrap:wrap;\n",
              "      gap: 12px;\n",
              "    }\n",
              "\n",
              "    .colab-df-convert {\n",
              "      background-color: #E8F0FE;\n",
              "      border: none;\n",
              "      border-radius: 50%;\n",
              "      cursor: pointer;\n",
              "      display: none;\n",
              "      fill: #1967D2;\n",
              "      height: 32px;\n",
              "      padding: 0 0 0 0;\n",
              "      width: 32px;\n",
              "    }\n",
              "\n",
              "    .colab-df-convert:hover {\n",
              "      background-color: #E2EBFA;\n",
              "      box-shadow: 0px 1px 2px rgba(60, 64, 67, 0.3), 0px 1px 3px 1px rgba(60, 64, 67, 0.15);\n",
              "      fill: #174EA6;\n",
              "    }\n",
              "\n",
              "    [theme=dark] .colab-df-convert {\n",
              "      background-color: #3B4455;\n",
              "      fill: #D2E3FC;\n",
              "    }\n",
              "\n",
              "    [theme=dark] .colab-df-convert:hover {\n",
              "      background-color: #434B5C;\n",
              "      box-shadow: 0px 1px 3px 1px rgba(0, 0, 0, 0.15);\n",
              "      filter: drop-shadow(0px 1px 2px rgba(0, 0, 0, 0.3));\n",
              "      fill: #FFFFFF;\n",
              "    }\n",
              "  </style>\n",
              "\n",
              "      <script>\n",
              "        const buttonEl =\n",
              "          document.querySelector('#df-ee0a936a-3851-464e-903e-a0c7cec25731 button.colab-df-convert');\n",
              "        buttonEl.style.display =\n",
              "          google.colab.kernel.accessAllowed ? 'block' : 'none';\n",
              "\n",
              "        async function convertToInteractive(key) {\n",
              "          const element = document.querySelector('#df-ee0a936a-3851-464e-903e-a0c7cec25731');\n",
              "          const dataTable =\n",
              "            await google.colab.kernel.invokeFunction('convertToInteractive',\n",
              "                                                     [key], {});\n",
              "          if (!dataTable) return;\n",
              "\n",
              "          const docLinkHtml = 'Like what you see? Visit the ' +\n",
              "            '<a target=\"_blank\" href=https://colab.research.google.com/notebooks/data_table.ipynb>data table notebook</a>'\n",
              "            + ' to learn more about interactive tables.';\n",
              "          element.innerHTML = '';\n",
              "          dataTable['output_type'] = 'display_data';\n",
              "          await google.colab.output.renderOutput(dataTable, element);\n",
              "          const docLink = document.createElement('div');\n",
              "          docLink.innerHTML = docLinkHtml;\n",
              "          element.appendChild(docLink);\n",
              "        }\n",
              "      </script>\n",
              "    </div>\n",
              "  </div>\n",
              "  "
            ]
          },
          "metadata": {},
          "execution_count": 8
        }
      ],
      "source": [
        "data.head()"
      ]
    },
    {
      "cell_type": "code",
      "execution_count": 9,
      "metadata": {
        "id": "pJXa7OguKAKn"
      },
      "outputs": [],
      "source": [
        "data = np.array(data)\n",
        "m, n  = data.shape\n",
        "np.random.shuffle(data)"
      ]
    },
    {
      "cell_type": "code",
      "execution_count": 10,
      "metadata": {
        "id": "PO6aif1_KAKn"
      },
      "outputs": [],
      "source": [
        "val_data = data[:1000].T\n",
        "val_y = val_data[0]\n",
        "val_X = val_data[1:n]\n",
        "val_X = val_X / 255."
      ]
    },
    {
      "cell_type": "code",
      "execution_count": 11,
      "metadata": {
        "id": "0RYwyldiKAKo"
      },
      "outputs": [],
      "source": [
        "train_data = data[1000:m].T\n",
        "train_y = train_data[0]\n",
        "train_X = train_data[1:n]\n",
        "train_X = train_X / 255."
      ]
    },
    {
      "cell_type": "code",
      "execution_count": 12,
      "metadata": {
        "colab": {
          "base_uri": "https://localhost:8080/"
        },
        "id": "kTXAHIfOKAKo",
        "outputId": "b641c40b-bdc9-4db5-d647-248e898754ff"
      },
      "outputs": [
        {
          "output_type": "execute_result",
          "data": {
            "text/plain": [
              "(array([[0., 0., 0., ..., 0., 0., 0.],\n",
              "        [0., 0., 0., ..., 0., 0., 0.]]), (784,))"
            ]
          },
          "metadata": {},
          "execution_count": 12
        }
      ],
      "source": [
        "train_X[:2], train_X[:,2].shape"
      ]
    },
    {
      "cell_type": "code",
      "execution_count": 13,
      "metadata": {
        "colab": {
          "base_uri": "https://localhost:8080/"
        },
        "id": "W2Ljwr87KAKp",
        "outputId": "5aeca4ce-1f5a-446a-9ad0-c507c3a9e4ce"
      },
      "outputs": [
        {
          "output_type": "execute_result",
          "data": {
            "text/plain": [
              "9"
            ]
          },
          "metadata": {},
          "execution_count": 13
        }
      ],
      "source": [
        "train_y[0]"
      ]
    },
    {
      "cell_type": "code",
      "execution_count": 14,
      "metadata": {
        "id": "SxgDxV7dKAKq"
      },
      "outputs": [],
      "source": [
        "def init_params():\n",
        "    W1 = np.random.rand(10, 784) - 0.5\n",
        "    b1 = np.random.rand(10, 1) - 0.5\n",
        "    W2 = np.random.rand(10, 10) - 0.5\n",
        "    b2 = np.random.rand(10, 1) - 0.5\n",
        "    return W1, b1, W2, b2\n",
        "\n",
        "def ReLU(Z):\n",
        "    return np.maximum(Z, 0)\n",
        "\n",
        "def softmax(Z):\n",
        "    A = np.exp(Z) / sum(np.exp(Z))\n",
        "    return A\n",
        "    \n",
        "def forward_propagation(W1, b1, W2, b2, X):\n",
        "    Z1 = W1.dot(X) + b1\n",
        "    A1 = ReLU(Z1)\n",
        "    Z2 = W2.dot(A1) + b2\n",
        "    A2 = softmax(Z2)\n",
        "    return Z1, A1, Z2, A2\n",
        "\n",
        "def d_ReLU(Z):\n",
        "    return Z > 0\n",
        "\n",
        "def one_hot(Y):\n",
        "    one_hot_Y = np.zeros((Y.size, Y.max() + 1))\n",
        "    one_hot_Y[np.arange(Y.size), Y] = 1\n",
        "    one_hot_Y = one_hot_Y.T\n",
        "    return one_hot_Y\n",
        "\n",
        "def backward_propagation(Z1, A1, Z2, A2, W1, W2, X, Y):\n",
        "    one_hot_Y = one_hot(Y)\n",
        "    dZ2 = A2 - one_hot_Y\n",
        "    dW2 = 1 / m * dZ2.dot(A1.T)\n",
        "    db2 = 1 / m * np.sum(dZ2)\n",
        "    dZ1 = W2.T.dot(dZ2) * d_ReLU(Z1)\n",
        "    dW1 = 1 / m * dZ1.dot(X.T)\n",
        "    db1 = 1 / m * np.sum(dZ1)\n",
        "    return dW1, db1, dW2, db2\n",
        "\n",
        "def update_params(W1, b1, W2, b2, dW1, db1, dW2, db2, alpha):\n",
        "    W1 = W1 - alpha * dW1\n",
        "    b1 = b1 - alpha * db1    \n",
        "    W2 = W2 - alpha * dW2  \n",
        "    b2 = b2 - alpha * db2    \n",
        "    return W1, b1, W2, b2"
      ]
    },
    {
      "cell_type": "code",
      "execution_count": 15,
      "metadata": {
        "id": "wb48on48KAKr"
      },
      "outputs": [],
      "source": [
        "def get_predictions(A2):\n",
        "    return np.argmax(A2,0)\n",
        "\n",
        "def get_accuracy(predictions,Y):\n",
        "    print(predictions,Y)\n",
        "    return np.sum(predictions ==Y)/Y.size\n",
        "\n",
        "def gradient_descent(X,Y,alpha,epochs):\n",
        "    W1, b1, W2, b2 = init_params()\n",
        "    for i in range(epochs):\n",
        "        Z1,A1,Z2,A2 = forward_propagation(W1, b1, W2, b2, X)\n",
        "        dW1,db1,dW2,db2 = backward_propagation(Z1,A1,Z2,A2,W1,W2,X,Y)\n",
        "        W1,b1,W2,b2 = update_params(W1,b1,W2,b2,dW1,db1,dW2,db2,alpha)\n",
        "        if i%10 ==0:\n",
        "            print(\"epoch\",i)\n",
        "            predictions = get_predictions(A2)\n",
        "            print(\"Accuracy\",get_accuracy(predictions,Y))\n",
        "    return W1,b1,W2,b2"
      ]
    },
    {
      "cell_type": "code",
      "execution_count": 16,
      "metadata": {
        "colab": {
          "base_uri": "https://localhost:8080/"
        },
        "id": "WRoZnuOpKAKr",
        "outputId": "89ce93e5-28ea-4188-f220-1eabaff5000c"
      },
      "outputs": [
        {
          "output_type": "stream",
          "name": "stdout",
          "text": [
            "epoch 0\n",
            "[0 8 4 ... 0 0 2] [9 8 0 ... 9 4 9]\n",
            "Accuracy 0.10041463414634147\n",
            "epoch 10\n",
            "[2 8 0 ... 0 7 2] [9 8 0 ... 9 4 9]\n",
            "Accuracy 0.19163414634146342\n",
            "epoch 20\n",
            "[2 8 0 ... 7 4 2] [9 8 0 ... 9 4 9]\n",
            "Accuracy 0.27339024390243905\n",
            "epoch 30\n",
            "[9 8 0 ... 9 4 2] [9 8 0 ... 9 4 9]\n",
            "Accuracy 0.3389756097560976\n",
            "epoch 40\n",
            "[9 3 0 ... 9 7 2] [9 8 0 ... 9 4 9]\n",
            "Accuracy 0.39026829268292684\n",
            "epoch 50\n",
            "[7 3 0 ... 9 7 2] [9 8 0 ... 9 4 9]\n",
            "Accuracy 0.4315609756097561\n",
            "epoch 60\n",
            "[7 3 0 ... 9 7 2] [9 8 0 ... 9 4 9]\n",
            "Accuracy 0.4692682926829268\n",
            "epoch 70\n",
            "[7 3 0 ... 9 7 2] [9 8 0 ... 9 4 9]\n",
            "Accuracy 0.49902439024390244\n",
            "epoch 80\n",
            "[7 3 0 ... 9 7 2] [9 8 0 ... 9 4 9]\n",
            "Accuracy 0.5249756097560976\n",
            "epoch 90\n",
            "[7 3 0 ... 9 7 2] [9 8 0 ... 9 4 9]\n",
            "Accuracy 0.5476341463414635\n",
            "epoch 100\n",
            "[9 3 0 ... 9 7 2] [9 8 0 ... 9 4 9]\n",
            "Accuracy 0.5661463414634146\n",
            "epoch 110\n",
            "[9 3 0 ... 9 7 7] [9 8 0 ... 9 4 9]\n",
            "Accuracy 0.5840487804878048\n",
            "epoch 120\n",
            "[9 3 0 ... 9 7 7] [9 8 0 ... 9 4 9]\n",
            "Accuracy 0.6002439024390244\n",
            "epoch 130\n",
            "[7 3 0 ... 9 7 7] [9 8 0 ... 9 4 9]\n",
            "Accuracy 0.6143414634146341\n",
            "epoch 140\n",
            "[7 3 0 ... 9 7 7] [9 8 0 ... 9 4 9]\n",
            "Accuracy 0.6293658536585366\n",
            "epoch 150\n",
            "[7 3 0 ... 9 7 7] [9 8 0 ... 9 4 9]\n",
            "Accuracy 0.6430487804878049\n",
            "epoch 160\n",
            "[7 3 0 ... 9 4 7] [9 8 0 ... 9 4 9]\n",
            "Accuracy 0.6576341463414634\n",
            "epoch 170\n",
            "[7 3 0 ... 9 4 7] [9 8 0 ... 9 4 9]\n",
            "Accuracy 0.6714390243902439\n",
            "epoch 180\n",
            "[9 3 0 ... 9 4 7] [9 8 0 ... 9 4 9]\n",
            "Accuracy 0.6855121951219513\n",
            "epoch 190\n",
            "[9 3 0 ... 9 4 7] [9 8 0 ... 9 4 9]\n",
            "Accuracy 0.697780487804878\n",
            "epoch 200\n",
            "[9 3 0 ... 9 4 7] [9 8 0 ... 9 4 9]\n",
            "Accuracy 0.7103658536585366\n",
            "epoch 210\n",
            "[9 3 0 ... 9 4 9] [9 8 0 ... 9 4 9]\n",
            "Accuracy 0.7208048780487805\n",
            "epoch 220\n",
            "[9 3 0 ... 9 4 9] [9 8 0 ... 9 4 9]\n",
            "Accuracy 0.7304878048780488\n",
            "epoch 230\n",
            "[9 3 0 ... 9 4 9] [9 8 0 ... 9 4 9]\n",
            "Accuracy 0.7394634146341463\n",
            "epoch 240\n",
            "[9 3 0 ... 9 4 9] [9 8 0 ... 9 4 9]\n",
            "Accuracy 0.7484390243902439\n",
            "epoch 250\n",
            "[9 3 0 ... 9 4 9] [9 8 0 ... 9 4 9]\n",
            "Accuracy 0.7564634146341463\n",
            "epoch 260\n",
            "[9 3 0 ... 9 4 9] [9 8 0 ... 9 4 9]\n",
            "Accuracy 0.7633658536585366\n",
            "epoch 270\n",
            "[9 3 0 ... 9 4 9] [9 8 0 ... 9 4 9]\n",
            "Accuracy 0.77\n",
            "epoch 280\n",
            "[9 3 0 ... 9 4 9] [9 8 0 ... 9 4 9]\n",
            "Accuracy 0.7763658536585366\n",
            "epoch 290\n",
            "[9 3 0 ... 9 4 9] [9 8 0 ... 9 4 9]\n",
            "Accuracy 0.7820731707317073\n",
            "epoch 300\n",
            "[9 3 0 ... 9 4 9] [9 8 0 ... 9 4 9]\n",
            "Accuracy 0.787\n",
            "epoch 310\n",
            "[9 3 0 ... 9 4 9] [9 8 0 ... 9 4 9]\n",
            "Accuracy 0.7909512195121952\n",
            "epoch 320\n",
            "[9 3 0 ... 9 4 9] [9 8 0 ... 9 4 9]\n",
            "Accuracy 0.7958536585365854\n",
            "epoch 330\n",
            "[9 3 0 ... 9 4 9] [9 8 0 ... 9 4 9]\n",
            "Accuracy 0.7989756097560976\n",
            "epoch 340\n",
            "[9 3 0 ... 9 4 9] [9 8 0 ... 9 4 9]\n",
            "Accuracy 0.802609756097561\n",
            "epoch 350\n",
            "[9 8 0 ... 9 4 9] [9 8 0 ... 9 4 9]\n",
            "Accuracy 0.8063170731707318\n",
            "epoch 360\n",
            "[9 8 0 ... 9 4 9] [9 8 0 ... 9 4 9]\n",
            "Accuracy 0.8093658536585366\n",
            "epoch 370\n",
            "[9 8 0 ... 9 4 9] [9 8 0 ... 9 4 9]\n",
            "Accuracy 0.812560975609756\n",
            "epoch 380\n",
            "[9 8 0 ... 9 4 9] [9 8 0 ... 9 4 9]\n",
            "Accuracy 0.8152926829268292\n",
            "epoch 390\n",
            "[9 8 0 ... 9 4 9] [9 8 0 ... 9 4 9]\n",
            "Accuracy 0.8183658536585365\n",
            "epoch 400\n",
            "[9 8 0 ... 9 4 9] [9 8 0 ... 9 4 9]\n",
            "Accuracy 0.8211463414634146\n",
            "epoch 410\n",
            "[9 8 0 ... 9 4 9] [9 8 0 ... 9 4 9]\n",
            "Accuracy 0.8239268292682926\n",
            "epoch 420\n",
            "[9 8 0 ... 9 4 9] [9 8 0 ... 9 4 9]\n",
            "Accuracy 0.8269512195121951\n",
            "epoch 430\n",
            "[9 8 0 ... 9 4 9] [9 8 0 ... 9 4 9]\n",
            "Accuracy 0.828780487804878\n",
            "epoch 440\n",
            "[9 8 0 ... 9 4 9] [9 8 0 ... 9 4 9]\n",
            "Accuracy 0.830780487804878\n",
            "epoch 450\n",
            "[9 8 0 ... 9 4 9] [9 8 0 ... 9 4 9]\n",
            "Accuracy 0.8328536585365853\n",
            "epoch 460\n",
            "[9 8 0 ... 9 4 9] [9 8 0 ... 9 4 9]\n",
            "Accuracy 0.8347317073170731\n",
            "epoch 470\n",
            "[9 8 0 ... 9 4 9] [9 8 0 ... 9 4 9]\n",
            "Accuracy 0.8370487804878048\n",
            "epoch 480\n",
            "[9 8 0 ... 9 4 9] [9 8 0 ... 9 4 9]\n",
            "Accuracy 0.8385365853658536\n",
            "epoch 490\n",
            "[9 8 0 ... 9 4 9] [9 8 0 ... 9 4 9]\n",
            "Accuracy 0.8396585365853658\n"
          ]
        }
      ],
      "source": [
        "W1,b1,W2,b2 = gradient_descent(train_X,train_y,0.1,500)"
      ]
    },
    {
      "cell_type": "code",
      "execution_count": 17,
      "metadata": {
        "id": "aQaCoiQSKAKs"
      },
      "outputs": [],
      "source": [
        "def make_predictions(X,W1,b1,W2,b2):\n",
        "    _, _, _, A2 =  forward_propagation(W1,b1,W2,b2,X)\n",
        "    predictions = get_predictions(A2)\n",
        "    return predictions"
      ]
    },
    {
      "cell_type": "code",
      "execution_count": 18,
      "metadata": {
        "id": "ngIGjh1pKAKs"
      },
      "outputs": [],
      "source": [
        "def test_prediction(index, W1,b1,W2,b2):\n",
        "    image = train_X[:,index,None]\n",
        "    prediction = make_predictions(train_X[:,index,None],W1,b1,W2,b2)\n",
        "\n",
        "    label = train_y[index]\n",
        "    print(\"Prediction: \",prediction)\n",
        "    print(\"Label: \",label)\n",
        "\n",
        "    image = image.reshape((28,28))*255\n",
        "    plt.imshow(image,interpolation='nearest')\n",
        "    plt.show()"
      ]
    },
    {
      "cell_type": "code",
      "execution_count": 19,
      "metadata": {
        "colab": {
          "base_uri": "https://localhost:8080/"
        },
        "id": "NS1Dy3sfKAKs",
        "outputId": "b52b035e-487e-4e56-fe3a-a0b85eb5215d"
      },
      "outputs": [
        {
          "output_type": "execute_result",
          "data": {
            "text/plain": [
              "array([5, 5, 6, 5, 5, 5, 5, 6, 5, 5])"
            ]
          },
          "metadata": {},
          "execution_count": 19
        }
      ],
      "source": [
        "make_predictions(train_X[:,0],W1,b1,W2,b2)"
      ]
    },
    {
      "cell_type": "code",
      "execution_count": 20,
      "metadata": {
        "colab": {
          "base_uri": "https://localhost:8080/",
          "height": 1000
        },
        "id": "1OKFhrymKAKt",
        "outputId": "7bc4d0c7-8111-4735-df45-48a589ef3636"
      },
      "outputs": [
        {
          "output_type": "stream",
          "name": "stdout",
          "text": [
            "Prediction:  [9]\n",
            "Label:  9\n"
          ]
        },
        {
          "output_type": "display_data",
          "data": {
            "text/plain": [
              "<Figure size 432x288 with 1 Axes>"
            ],
            "image/png": "[encoded data removed]"
          },
          "metadata": {
            "needs_background": "light"
          }
        },
        {
          "output_type": "stream",
          "name": "stdout",
          "text": [
            "Prediction:  [8]\n",
            "Label:  8\n"
          ]
        },
        {
          "output_type": "display_data",
          "data": {
            "text/plain": [
              "<Figure size 432x288 with 1 Axes>"
            ],
            "image/png": "[encoded data removed]"
          },
          "metadata": {
            "needs_background": "light"
          }
        },
        {
          "output_type": "stream",
          "name": "stdout",
          "text": [
            "Prediction:  [0]\n",
            "Label:  0\n"
          ]
        },
        {
          "output_type": "display_data",
          "data": {
            "text/plain": [
              "<Figure size 432x288 with 1 Axes>"
            ],
            "image/png": "[encoded data removed]"
          },
          "metadata": {
            "needs_background": "light"
          }
        },
        {
          "output_type": "stream",
          "name": "stdout",
          "text": [
            "Prediction:  [1]\n",
            "Label:  1\n"
          ]
        },
        {
          "output_type": "display_data",
          "data": {
            "text/plain": [
              "<Figure size 432x288 with 1 Axes>"
            ],
            "image/png": "[encoded data removed]"
          },
          "metadata": {
            "needs_background": "light"
          }
        }
      ],
      "source": [
        "test_prediction(0, W1, b1, W2, b2)\n",
        "test_prediction(1, W1, b1, W2, b2)\n",
        "test_prediction(2, W1, b1, W2, b2)\n",
        "test_prediction(3, W1, b1, W2, b2)"
      ]
    },
    {
      "cell_type": "code",
      "execution_count": 21,
      "metadata": {
        "colab": {
          "base_uri": "https://localhost:8080/"
        },
        "id": "1cWTqMVNKAKt",
        "outputId": "b2d089ea-4980-408d-9799-6ef46d344adc"
      },
      "outputs": [
        {
          "output_type": "stream",
          "name": "stdout",
          "text": [
            "[8 2 1 7 5 7 4 1 4 1 4 3 2 7 5 6 6 0 5 4 2 4 4 4 3 5 9 1 6 5 6 9 1 7 5 6 9\n",
            " 8 1 8 8 1 4 1 7 7 7 1 2 9 1 0 7 0 1 0 8 8 1 9 5 5 9 2 1 7 7 0 5 0 6 6 0 9\n",
            " 6 3 0 8 7 5 6 4 5 2 9 6 0 6 7 1 6 6 9 3 9 1 7 7 9 3 4 4 9 7 6 3 3 5 7 3 2\n",
            " 9 6 2 7 0 0 8 2 2 0 5 1 5 0 0 3 5 4 8 7 2 2 1 0 5 6 1 6 6 0 8 2 9 0 3 3 7\n",
            " 2 9 1 8 3 0 6 1 9 4 3 4 0 5 9 2 5 9 1 2 4 8 3 3 7 9 2 8 1 1 7 2 6 6 4 4 2\n",
            " 0 7 4 0 9 6 7 1 1 6 1 9 3 8 6 1 9 5 9 8 4 9 2 9 1 3 5 1 2 0 4 2 3 9 8 1 6\n",
            " 4 8 8 0 7 3 7 7 0 5 9 1 7 2 9 1 9 4 0 4 3 4 8 5 9 5 6 0 0 7 3 9 0 6 1 2 3\n",
            " 4 9 6 1 1 6 5 3 9 0 2 6 8 8 8 3 4 1 0 5 9 9 7 2 4 3 2 0 3 8 7 3 5 2 0 7 4\n",
            " 2 9 3 7 7 6 2 6 9 8 2 3 2 4 8 9 0 9 8 2 7 4 5 1 9 3 6 6 7 1 7 4 9 4 9 6 6\n",
            " 0 3 1 0 5 1 3 4 4 8 4 2 8 4 2 7 7 1 7 6 4 2 3 6 7 1 4 9 3 8 8 8 2 7 8 7 9\n",
            " 6 3 6 4 1 9 4 3 9 1 8 2 1 1 9 8 9 5 6 1 2 3 8 4 2 9 4 3 2 1 9 6 5 8 9 7 3\n",
            " 7 7 8 1 7 9 6 7 6 4 3 7 3 8 5 6 8 6 1 9 2 3 4 8 1 4 4 2 8 0 3 0 7 6 8 5 5\n",
            " 8 8 8 5 9 7 1 2 9 6 1 8 9 5 2 1 8 3 5 4 4 5 7 7 7 2 9 2 6 2 6 4 1 1 3 2 4\n",
            " 4 2 9 0 6 1 6 9 7 5 6 9 1 7 8 9 3 4 5 1 8 9 2 7 0 1 0 4 3 8 0 8 5 3 7 2 8\n",
            " 1 9 9 6 1 4 8 3 4 1 3 5 9 8 7 9 8 9 9 8 6 5 3 7 0 8 7 5 3 8 5 6 9 4 1 5 2\n",
            " 0 3 4 8 6 7 5 9 9 4 3 4 9 3 0 7 0 1 2 7 4 5 9 2 8 1 7 9 0 5 1 7 2 2 2 6 3\n",
            " 8 4 8 5 7 7 0 9 4 0 2 0 1 6 1 4 5 5 3 5 1 4 0 2 4 1 4 6 1 8 2 7 6 9 3 4 3\n",
            " 4 7 8 8 2 6 3 5 5 7 7 7 1 6 6 4 8 3 6 1 8 0 3 8 5 1 8 2 5 9 0 7 6 2 3 4 8\n",
            " 4 4 7 7 7 6 6 4 7 1 6 9 1 8 6 4 4 2 7 5 8 6 8 6 0 0 1 0 2 5 0 2 3 3 1 7 0\n",
            " 0 0 9 7 3 8 4 8 9 5 1 1 4 0 2 7 6 3 6 6 8 2 8 0 5 4 7 4 6 5 4 0 8 2 7 2 8\n",
            " 5 2 1 1 7 6 9 2 0 9 2 8 5 2 8 1 4 7 1 5 6 9 7 1 2 9 1 4 1 0 3 9 7 4 4 8 7\n",
            " 6 6 1 1 2 2 9 9 7 5 1 7 6 9 1 3 2 4 4 1 2 1 7 8 4 2 0 3 6 5 4 4 1 1 7 3 1\n",
            " 6 3 8 6 1 8 3 6 7 8 0 1 9 0 2 9 8 3 9 0 0 9 2 7 3 1 8 0 6 1 7 4 3 3 0 2 8\n",
            " 4 6 1 9 4 2 9 9 7 0 1 5 2 4 0 5 4 8 9 0 0 7 9 5 9 3 3 4 6 5 1 2 5 5 7 9 1\n",
            " 6 3 3 6 4 2 2 9 4 3 4 3 7 3 2 6 9 9 5 7 7 5 5 9 5 1 7 7 6 1 3 7 9 6 2 0 4\n",
            " 6 8 2 6 6 8 9 0 3 0 4 8 3 9 5 4 8 7 0 0 2 1 9 7 1 0 4 7 6 2 1 0 0 9 9 9 3\n",
            " 9 2 0 5 7 3 2 7 2 0 0 6 0 9 4 4 2 0 1 2 2 0 3 1 7 6 5 9 2 0 3 9 4 8 2 2 8\n",
            " 3] [5 2 1 7 3 7 4 1 9 1 4 3 2 7 5 6 6 0 0 4 2 4 4 4 1 5 9 1 6 5 6 9 1 7 5 6 9\n",
            " 8 1 5 8 1 4 1 7 7 7 1 2 9 1 3 7 0 1 2 8 8 1 9 3 0 9 2 1 7 7 0 8 0 6 2 0 9\n",
            " 6 3 9 8 9 5 6 4 5 2 4 6 0 6 7 1 6 6 7 3 5 1 7 7 9 3 4 4 7 7 6 3 3 5 7 3 2\n",
            " 8 6 2 7 0 0 3 2 2 0 5 1 4 0 0 3 5 4 3 7 2 3 1 0 5 6 1 6 4 0 8 9 9 0 3 3 7\n",
            " 2 4 1 8 3 0 6 1 4 4 3 4 0 0 9 2 5 9 1 2 4 8 8 5 7 9 8 8 1 1 7 2 6 6 4 4 2\n",
            " 0 7 4 0 9 6 7 1 1 6 1 8 3 2 6 1 4 5 9 8 4 9 2 4 1 6 5 1 2 0 4 2 8 7 3 1 6\n",
            " 4 8 5 0 5 2 7 7 5 5 7 1 7 2 9 1 9 4 0 4 3 4 3 5 9 5 6 0 0 7 5 9 0 6 9 2 3\n",
            " 4 9 6 1 1 6 5 3 9 0 2 6 8 8 5 3 4 1 0 5 9 7 7 2 9 3 6 0 3 3 7 2 5 3 0 7 4\n",
            " 2 7 3 7 7 6 2 6 9 8 2 3 2 4 8 9 0 7 8 2 7 4 5 1 9 3 6 6 7 1 7 4 9 4 9 6 6\n",
            " 0 3 1 0 5 1 3 4 4 5 4 1 3 4 3 7 7 1 7 6 4 2 8 6 7 1 4 9 3 8 8 8 2 7 7 7 9\n",
            " 6 3 8 4 1 9 4 3 4 1 8 2 1 4 9 8 9 5 6 1 2 3 3 4 1 8 4 3 2 1 9 6 5 8 9 7 3\n",
            " 7 7 8 1 7 9 6 7 6 4 5 7 3 8 5 6 8 6 1 7 2 3 7 8 1 4 4 2 8 5 3 5 9 6 5 5 5\n",
            " 9 8 8 8 9 7 1 2 4 6 1 8 7 5 2 1 6 3 5 4 4 0 7 7 7 2 9 2 6 7 6 4 1 1 3 2 4\n",
            " 2 2 9 0 6 1 6 9 7 5 6 9 1 7 8 9 8 4 5 1 3 9 2 7 4 1 0 4 5 8 0 8 5 8 7 2 8\n",
            " 1 4 7 6 1 4 8 3 4 1 3 3 9 8 7 9 3 7 9 8 6 5 3 7 0 8 7 5 3 8 5 6 9 4 1 5 2\n",
            " 0 3 4 8 6 7 5 9 9 4 3 4 9 3 0 7 0 1 2 7 4 5 9 2 8 1 7 9 0 5 1 7 2 2 2 6 3\n",
            " 8 4 8 5 7 7 3 9 4 0 2 0 1 6 1 4 6 5 3 5 1 9 0 2 4 1 4 6 1 8 2 7 6 9 3 4 3\n",
            " 4 7 8 8 2 6 3 5 5 7 7 7 1 6 6 4 8 3 6 1 8 0 3 8 5 1 8 2 5 9 0 3 6 2 7 4 8\n",
            " 4 4 7 7 7 6 6 4 9 1 6 9 1 8 0 4 4 2 7 5 5 2 8 6 0 0 1 0 2 5 0 2 3 8 1 7 0\n",
            " 0 0 9 7 3 8 7 8 9 6 1 1 4 6 2 7 6 3 0 6 8 2 8 0 5 4 7 4 6 5 9 0 8 2 9 6 3\n",
            " 1 2 1 8 7 2 9 2 0 9 2 8 5 2 8 1 9 7 1 5 6 9 7 1 2 9 1 4 1 0 3 9 7 4 5 8 7\n",
            " 4 6 1 1 2 2 9 9 7 5 1 7 6 9 1 3 2 4 4 1 2 1 7 8 4 2 0 3 6 5 6 4 1 1 7 3 3\n",
            " 6 3 8 6 1 8 3 6 7 3 0 1 4 0 4 9 8 3 9 0 0 9 2 7 3 1 8 0 6 1 7 4 2 3 0 2 8\n",
            " 4 6 2 7 4 2 9 4 7 0 1 5 0 4 0 8 4 8 8 0 0 7 4 1 9 8 3 7 6 3 1 2 3 5 7 9 1\n",
            " 6 3 3 6 4 2 2 9 4 3 4 5 2 3 2 8 9 9 5 9 7 8 5 9 5 1 9 3 6 1 5 7 9 6 2 0 4\n",
            " 6 8 2 6 6 8 9 0 3 0 4 8 3 9 5 9 5 7 0 0 6 1 9 7 1 0 8 7 6 2 1 4 0 4 9 4 3\n",
            " 9 2 0 5 7 3 2 3 2 0 0 6 0 9 4 4 2 0 1 2 2 0 3 1 9 6 5 9 2 0 3 9 4 8 2 2 8\n",
            " 3]\n"
          ]
        }
      ],
      "source": [
        "val_predictions = make_predictions(val_X,W1,b1,W2,b2)\n",
        "accuracy = get_accuracy(val_predictions,val_y)"
      ]
    },
    {
      "cell_type": "code",
      "execution_count": 22,
      "metadata": {
        "colab": {
          "base_uri": "https://localhost:8080/"
        },
        "id": "kTtDShC-KAKt",
        "outputId": "c779d618-6669-428f-f919-32a7efa182e2"
      },
      "outputs": [
        {
          "output_type": "stream",
          "name": "stdout",
          "text": [
            "Validation Accuracy(%):  84.8\n"
          ]
        }
      ],
      "source": [
        "print(\"Validation Accuracy(%): \",accuracy*100)"
      ]
    },
    {
      "cell_type": "code",
      "execution_count": 31,
      "metadata": {
        "id": "IS3FQvvWKAKu"
      },
      "outputs": [],
      "source": [
        "from PIL import Image\n",
        "import numpy as np\n",
        "from keras.models import load_model\n",
        "\n",
        "def init():\n",
        "    model = load_model(\"model.h5\")\n",
        "    # print (\"debug\")\n",
        "    image_path = \"download1.jpg\"\n",
        "  \n",
        "    image = Image.open(image_path)\n",
        "    image = image.resize((28,28))\n",
        "    image = image.convert(mode=\"L\")\n",
        "    # print(image.mode)\n",
        "    image_array = np.array(image)\n",
        "    image_array= np.invert(image_array)\n",
        "    # print(image_array.shape) \n",
        "    image_array = image_array.reshape(1,28,28,1)\n",
        "    y_pred = np.argmax(model.predict(image_array), axis=-1)\n",
        "    # print(y_pred)\n",
        "    return y_pred.tolist()"
      ]
    },
    {
      "cell_type": "code",
      "execution_count": 32,
      "metadata": {
        "colab": {
          "base_uri": "https://localhost:8080/"
        },
        "id": "sTlZnXUNKAKu",
        "outputId": "ad3324c2-0407-40b5-9365-d1ec2476ec77"
      },
      "outputs": [
        {
          "output_type": "execute_result",
          "data": {
            "text/plain": [
              "[8]"
            ]
          },
          "metadata": {},
          "execution_count": 32
        }
      ],
      "source": [
        "init()"
      ]
    },
    {
      "cell_type": "code",
      "source": [
        ""
      ],
      "metadata": {
        "id": "cjxw4dx0ZIg1"
      },
      "execution_count": null,
      "outputs": []
    }
  ]
}